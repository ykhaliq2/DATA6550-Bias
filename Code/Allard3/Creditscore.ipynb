{
 "cells": [
  {
   "cell_type": "markdown",
   "metadata": {},
   "source": [
    "# Give Me Some Credit:\n",
    "\n",
    "## Exploring Potential Biases in 'MonthlyIncome' and 'NumberOfOpenCreditLinesAndLoans'\n"
   ]
  },
  {
   "cell_type": "markdown",
   "metadata": {
    "id": "uq7hWTXx2ziD"
   },
   "source": [
    "## Exploratory Data Analysis and Insights"
   ]
  },
  {
   "cell_type": "code",
   "execution_count": 3,
   "metadata": {},
   "outputs": [],
   "source": [
    "# Libraries for data reading and manipulation\n",
    "import pandas as pd\n",
    "import numpy as np\n",
    "\n",
    "# Libraries for data visualisation\n",
    "import matplotlib.pyplot as plt\n",
    "import seaborn as sns"
   ]
  },
  {
   "cell_type": "code",
   "execution_count": 4,
   "metadata": {},
   "outputs": [],
   "source": [
    "# Suppress warnings\n",
    "import warnings\n",
    "warnings.filterwarnings(\"ignore\")"
   ]
  },
  {
   "cell_type": "code",
   "execution_count": 5,
   "metadata": {},
   "outputs": [],
   "source": [
    "# Show all columns and their contents\n",
    "pd.set_option('display.max_columns', None)\n",
    "pd.set_option('display.max_colwidth', 1) "
   ]
  },
  {
   "cell_type": "code",
   "execution_count": 6,
   "metadata": {},
   "outputs": [],
   "source": [
    "# Override scientific notation\n",
    "pd.set_option('display.float_format', '{:.2f}'.format)"
   ]
  },
  {
   "cell_type": "code",
   "execution_count": 57,
   "metadata": {},
   "outputs": [],
   "source": [
    "# Show all rows\n",
    "pd.set_option('display.max_rows', None)"
   ]
  },
  {
   "cell_type": "code",
   "execution_count": 7,
   "metadata": {},
   "outputs": [],
   "source": [
    "# Create df\n",
    "df = pd.read_csv(\"/Users/johnallard/Documents/Semester_2/DATA 6550/HW02/GiveMeSomeCredit-training.csv\", index_col=None, header=0)"
   ]
  },
  {
   "cell_type": "code",
   "execution_count": 61,
   "metadata": {},
   "outputs": [
    {
     "data": {
      "text/html": [
       "<div>\n",
       "<style scoped>\n",
       "    .dataframe tbody tr th:only-of-type {\n",
       "        vertical-align: middle;\n",
       "    }\n",
       "\n",
       "    .dataframe tbody tr th {\n",
       "        vertical-align: top;\n",
       "    }\n",
       "\n",
       "    .dataframe thead th {\n",
       "        text-align: right;\n",
       "    }\n",
       "</style>\n",
       "<table border=\"1\" class=\"dataframe\">\n",
       "  <thead>\n",
       "    <tr style=\"text-align: right;\">\n",
       "      <th></th>\n",
       "      <th>SeriousDlqin2yrs</th>\n",
       "      <th>RevolvingUtilizationOfUnsecuredLines</th>\n",
       "      <th>age</th>\n",
       "      <th>NumberOfTime30-59DaysPastDueNotWorse</th>\n",
       "      <th>DebtRatio</th>\n",
       "      <th>MonthlyIncome</th>\n",
       "      <th>NumberOfOpenCreditLinesAndLoans</th>\n",
       "      <th>NumberOfTimes90DaysLate</th>\n",
       "      <th>NumberRealEstateLoansOrLines</th>\n",
       "      <th>NumberOfTime60-89DaysPastDueNotWorse</th>\n",
       "      <th>NumberOfDependents</th>\n",
       "    </tr>\n",
       "  </thead>\n",
       "  <tbody>\n",
       "    <tr>\n",
       "      <th>0</th>\n",
       "      <td>1</td>\n",
       "      <td>0.77</td>\n",
       "      <td>45</td>\n",
       "      <td>2</td>\n",
       "      <td>0.80</td>\n",
       "      <td>9120.00</td>\n",
       "      <td>13</td>\n",
       "      <td>0</td>\n",
       "      <td>6</td>\n",
       "      <td>0</td>\n",
       "      <td>2.00</td>\n",
       "    </tr>\n",
       "    <tr>\n",
       "      <th>1</th>\n",
       "      <td>0</td>\n",
       "      <td>0.96</td>\n",
       "      <td>40</td>\n",
       "      <td>0</td>\n",
       "      <td>0.12</td>\n",
       "      <td>2600.00</td>\n",
       "      <td>4</td>\n",
       "      <td>0</td>\n",
       "      <td>0</td>\n",
       "      <td>0</td>\n",
       "      <td>1.00</td>\n",
       "    </tr>\n",
       "    <tr>\n",
       "      <th>2</th>\n",
       "      <td>0</td>\n",
       "      <td>0.66</td>\n",
       "      <td>38</td>\n",
       "      <td>1</td>\n",
       "      <td>0.09</td>\n",
       "      <td>3042.00</td>\n",
       "      <td>2</td>\n",
       "      <td>1</td>\n",
       "      <td>0</td>\n",
       "      <td>0</td>\n",
       "      <td>0.00</td>\n",
       "    </tr>\n",
       "    <tr>\n",
       "      <th>3</th>\n",
       "      <td>0</td>\n",
       "      <td>0.23</td>\n",
       "      <td>30</td>\n",
       "      <td>0</td>\n",
       "      <td>0.04</td>\n",
       "      <td>3300.00</td>\n",
       "      <td>5</td>\n",
       "      <td>0</td>\n",
       "      <td>0</td>\n",
       "      <td>0</td>\n",
       "      <td>0.00</td>\n",
       "    </tr>\n",
       "    <tr>\n",
       "      <th>4</th>\n",
       "      <td>0</td>\n",
       "      <td>0.91</td>\n",
       "      <td>49</td>\n",
       "      <td>1</td>\n",
       "      <td>0.02</td>\n",
       "      <td>63588.00</td>\n",
       "      <td>7</td>\n",
       "      <td>0</td>\n",
       "      <td>1</td>\n",
       "      <td>0</td>\n",
       "      <td>0.00</td>\n",
       "    </tr>\n",
       "  </tbody>\n",
       "</table>\n",
       "</div>"
      ],
      "text/plain": [
       "   SeriousDlqin2yrs  RevolvingUtilizationOfUnsecuredLines  age  \\\n",
       "0  1                0.77                                   45    \n",
       "1  0                0.96                                   40    \n",
       "2  0                0.66                                   38    \n",
       "3  0                0.23                                   30    \n",
       "4  0                0.91                                   49    \n",
       "\n",
       "   NumberOfTime30-59DaysPastDueNotWorse  DebtRatio  MonthlyIncome  \\\n",
       "0  2                                    0.80       9120.00          \n",
       "1  0                                    0.12       2600.00          \n",
       "2  1                                    0.09       3042.00          \n",
       "3  0                                    0.04       3300.00          \n",
       "4  1                                    0.02       63588.00         \n",
       "\n",
       "   NumberOfOpenCreditLinesAndLoans  NumberOfTimes90DaysLate  \\\n",
       "0  13                               0                         \n",
       "1  4                                0                         \n",
       "2  2                                1                         \n",
       "3  5                                0                         \n",
       "4  7                                0                         \n",
       "\n",
       "   NumberRealEstateLoansOrLines  NumberOfTime60-89DaysPastDueNotWorse  \\\n",
       "0  6                             0                                      \n",
       "1  0                             0                                      \n",
       "2  0                             0                                      \n",
       "3  0                             0                                      \n",
       "4  1                             0                                      \n",
       "\n",
       "   NumberOfDependents  \n",
       "0 2.00                 \n",
       "1 1.00                 \n",
       "2 0.00                 \n",
       "3 0.00                 \n",
       "4 0.00                 "
      ]
     },
     "execution_count": 61,
     "metadata": {},
     "output_type": "execute_result"
    }
   ],
   "source": [
    "# Check df\n",
    "df.head()"
   ]
  },
  {
   "cell_type": "code",
   "execution_count": 9,
   "metadata": {},
   "outputs": [],
   "source": [
    "# Drop 'Unnamed:0'\n",
    "df = df.drop(columns=['Unnamed: 0'])"
   ]
  },
  {
   "cell_type": "code",
   "execution_count": 10,
   "metadata": {},
   "outputs": [
    {
     "data": {
      "text/plain": [
       "(150000, 11)"
      ]
     },
     "execution_count": 10,
     "metadata": {},
     "output_type": "execute_result"
    }
   ],
   "source": [
    "df.shape"
   ]
  },
  {
   "cell_type": "code",
   "execution_count": 11,
   "metadata": {},
   "outputs": [
    {
     "name": "stdout",
     "output_type": "stream",
     "text": [
      "<class 'pandas.core.frame.DataFrame'>\n",
      "RangeIndex: 150000 entries, 0 to 149999\n",
      "Data columns (total 11 columns):\n",
      " #   Column                                Non-Null Count   Dtype  \n",
      "---  ------                                --------------   -----  \n",
      " 0   SeriousDlqin2yrs                      150000 non-null  int64  \n",
      " 1   RevolvingUtilizationOfUnsecuredLines  150000 non-null  float64\n",
      " 2   age                                   150000 non-null  int64  \n",
      " 3   NumberOfTime30-59DaysPastDueNotWorse  150000 non-null  int64  \n",
      " 4   DebtRatio                             150000 non-null  float64\n",
      " 5   MonthlyIncome                         120269 non-null  float64\n",
      " 6   NumberOfOpenCreditLinesAndLoans       150000 non-null  int64  \n",
      " 7   NumberOfTimes90DaysLate               150000 non-null  int64  \n",
      " 8   NumberRealEstateLoansOrLines          150000 non-null  int64  \n",
      " 9   NumberOfTime60-89DaysPastDueNotWorse  150000 non-null  int64  \n",
      " 10  NumberOfDependents                    146076 non-null  float64\n",
      "dtypes: float64(4), int64(7)\n",
      "memory usage: 12.6 MB\n"
     ]
    }
   ],
   "source": [
    "df.info()"
   ]
  },
  {
   "cell_type": "markdown",
   "metadata": {},
   "source": [
    "* There are ~29000 NaN values in 'MonthlyIncome'. This could be the result of bias in the way the data was collected. I'm splitting the dataset into 2 separates dataframes, one with rows including rows with 'MonthlyIncome' values for EDA and modeling, and another with NaN values to explore for any notable differences in the other features."
   ]
  },
  {
   "cell_type": "code",
   "execution_count": 13,
   "metadata": {},
   "outputs": [
    {
     "name": "stdout",
     "output_type": "stream",
     "text": [
      "Values in column 'SeriousDlqin2yrs':\n",
      "[1 0]\n",
      "\n",
      "Values in column 'RevolvingUtilizationOfUnsecuredLines':\n",
      "[0.76612661 0.95715102 0.65818014 ... 0.29974515 0.24604392 0.85028295]\n",
      "\n",
      "Values in column 'age':\n",
      "[ 45  40  38  30  49  74  57  39  27  51  46  76  64  78  53  43  25  32\n",
      "  58  50  69  24  28  62  42  75  26  52  41  81  31  68  70  73  29  55\n",
      "  35  72  60  67  36  56  37  66  83  34  44  48  61  80  47  59  77  63\n",
      "  54  33  79  65  86  92  23  87  71  22  90  97  84  82  91  89  85  88\n",
      "  21  93  96  99  94  95 101  98 103 102 107 105   0 109]\n",
      "\n",
      "Values in column 'NumberOfTime30-59DaysPastDueNotWorse':\n",
      "[ 2  0  1  3  4  5  7 10  6 98 12  8  9 96 13 11]\n",
      "\n",
      "Values in column 'DebtRatio':\n",
      "[0.80298213 0.1218762  0.08511338 ... 0.40429286 0.71656222 0.24990808]\n",
      "\n",
      "Values in column 'MonthlyIncome':\n",
      "[ 9120.  2600.  3042. ... 15648.   521.  7647.]\n",
      "\n",
      "Values in column 'NumberOfOpenCreditLinesAndLoans':\n",
      "[13  4  2  5  7  3  8  9  6 10 14 22 17  1 15 31 12 21 11 19 18 26 20 23\n",
      "  0 16 27 29 28 24 25 32 46 33 30 34 37 38 36 35 54 43 45 49 57 48 40 58\n",
      " 51 52 39 41 56 42 47 50 44 53]\n",
      "\n",
      "Values in column 'NumberOfTimes90DaysLate':\n",
      "[ 0  1  3  2  5  4 98 10  9  6  7  8 15 96 11 13 14 17 12]\n",
      "\n",
      "Values in column 'NumberRealEstateLoansOrLines':\n",
      "[ 6  0  1  3  4  2  5  8  7  9 17 15 10 12 11 16 26 14 54 21 18 13 23 29\n",
      " 25 19 20 32]\n",
      "\n",
      "Values in column 'NumberOfTime60-89DaysPastDueNotWorse':\n",
      "[ 0  1  2  5  3 98  4  6  7  8 96 11  9]\n",
      "\n",
      "Values in column 'NumberOfDependents':\n",
      "[ 2.  1.  0. nan  3.  4.  5.  6.  8.  7. 20. 10.  9. 13.]\n",
      "\n"
     ]
    }
   ],
   "source": [
    "# For loop to iterate through each column and print their values\n",
    "for column in df.columns:\n",
    "    print(f\"Values in column '{column}':\")\n",
    "    print(df[column].unique())  \n",
    "    print()  # Empty line for readability"
   ]
  },
  {
   "cell_type": "code",
   "execution_count": 14,
   "metadata": {},
   "outputs": [],
   "source": [
    "# Create df_new from rows with NaN values in MonthlyIncome\n",
    "df_NaN = df[df['MonthlyIncome'].isna()]"
   ]
  },
  {
   "cell_type": "code",
   "execution_count": 15,
   "metadata": {},
   "outputs": [
    {
     "data": {
      "text/html": [
       "<div>\n",
       "<style scoped>\n",
       "    .dataframe tbody tr th:only-of-type {\n",
       "        vertical-align: middle;\n",
       "    }\n",
       "\n",
       "    .dataframe tbody tr th {\n",
       "        vertical-align: top;\n",
       "    }\n",
       "\n",
       "    .dataframe thead th {\n",
       "        text-align: right;\n",
       "    }\n",
       "</style>\n",
       "<table border=\"1\" class=\"dataframe\">\n",
       "  <thead>\n",
       "    <tr style=\"text-align: right;\">\n",
       "      <th></th>\n",
       "      <th>SeriousDlqin2yrs</th>\n",
       "      <th>RevolvingUtilizationOfUnsecuredLines</th>\n",
       "      <th>age</th>\n",
       "      <th>NumberOfTime30-59DaysPastDueNotWorse</th>\n",
       "      <th>DebtRatio</th>\n",
       "      <th>MonthlyIncome</th>\n",
       "      <th>NumberOfOpenCreditLinesAndLoans</th>\n",
       "      <th>NumberOfTimes90DaysLate</th>\n",
       "      <th>NumberRealEstateLoansOrLines</th>\n",
       "      <th>NumberOfTime60-89DaysPastDueNotWorse</th>\n",
       "      <th>NumberOfDependents</th>\n",
       "    </tr>\n",
       "  </thead>\n",
       "  <tbody>\n",
       "    <tr>\n",
       "      <th>count</th>\n",
       "      <td>150000.00</td>\n",
       "      <td>150000.00</td>\n",
       "      <td>150000.00</td>\n",
       "      <td>150000.00</td>\n",
       "      <td>150000.00</td>\n",
       "      <td>120269.00</td>\n",
       "      <td>150000.00</td>\n",
       "      <td>150000.00</td>\n",
       "      <td>150000.00</td>\n",
       "      <td>150000.00</td>\n",
       "      <td>146076.00</td>\n",
       "    </tr>\n",
       "    <tr>\n",
       "      <th>mean</th>\n",
       "      <td>0.07</td>\n",
       "      <td>6.05</td>\n",
       "      <td>52.30</td>\n",
       "      <td>0.42</td>\n",
       "      <td>353.01</td>\n",
       "      <td>6670.22</td>\n",
       "      <td>8.45</td>\n",
       "      <td>0.27</td>\n",
       "      <td>1.02</td>\n",
       "      <td>0.24</td>\n",
       "      <td>0.76</td>\n",
       "    </tr>\n",
       "    <tr>\n",
       "      <th>std</th>\n",
       "      <td>0.25</td>\n",
       "      <td>249.76</td>\n",
       "      <td>14.77</td>\n",
       "      <td>4.19</td>\n",
       "      <td>2037.82</td>\n",
       "      <td>14384.67</td>\n",
       "      <td>5.15</td>\n",
       "      <td>4.17</td>\n",
       "      <td>1.13</td>\n",
       "      <td>4.16</td>\n",
       "      <td>1.12</td>\n",
       "    </tr>\n",
       "    <tr>\n",
       "      <th>min</th>\n",
       "      <td>0.00</td>\n",
       "      <td>0.00</td>\n",
       "      <td>0.00</td>\n",
       "      <td>0.00</td>\n",
       "      <td>0.00</td>\n",
       "      <td>0.00</td>\n",
       "      <td>0.00</td>\n",
       "      <td>0.00</td>\n",
       "      <td>0.00</td>\n",
       "      <td>0.00</td>\n",
       "      <td>0.00</td>\n",
       "    </tr>\n",
       "    <tr>\n",
       "      <th>25%</th>\n",
       "      <td>0.00</td>\n",
       "      <td>0.03</td>\n",
       "      <td>41.00</td>\n",
       "      <td>0.00</td>\n",
       "      <td>0.18</td>\n",
       "      <td>3400.00</td>\n",
       "      <td>5.00</td>\n",
       "      <td>0.00</td>\n",
       "      <td>0.00</td>\n",
       "      <td>0.00</td>\n",
       "      <td>0.00</td>\n",
       "    </tr>\n",
       "    <tr>\n",
       "      <th>50%</th>\n",
       "      <td>0.00</td>\n",
       "      <td>0.15</td>\n",
       "      <td>52.00</td>\n",
       "      <td>0.00</td>\n",
       "      <td>0.37</td>\n",
       "      <td>5400.00</td>\n",
       "      <td>8.00</td>\n",
       "      <td>0.00</td>\n",
       "      <td>1.00</td>\n",
       "      <td>0.00</td>\n",
       "      <td>0.00</td>\n",
       "    </tr>\n",
       "    <tr>\n",
       "      <th>75%</th>\n",
       "      <td>0.00</td>\n",
       "      <td>0.56</td>\n",
       "      <td>63.00</td>\n",
       "      <td>0.00</td>\n",
       "      <td>0.87</td>\n",
       "      <td>8249.00</td>\n",
       "      <td>11.00</td>\n",
       "      <td>0.00</td>\n",
       "      <td>2.00</td>\n",
       "      <td>0.00</td>\n",
       "      <td>1.00</td>\n",
       "    </tr>\n",
       "    <tr>\n",
       "      <th>max</th>\n",
       "      <td>1.00</td>\n",
       "      <td>50708.00</td>\n",
       "      <td>109.00</td>\n",
       "      <td>98.00</td>\n",
       "      <td>329664.00</td>\n",
       "      <td>3008750.00</td>\n",
       "      <td>58.00</td>\n",
       "      <td>98.00</td>\n",
       "      <td>54.00</td>\n",
       "      <td>98.00</td>\n",
       "      <td>20.00</td>\n",
       "    </tr>\n",
       "  </tbody>\n",
       "</table>\n",
       "</div>"
      ],
      "text/plain": [
       "       SeriousDlqin2yrs  RevolvingUtilizationOfUnsecuredLines       age  \\\n",
       "count 150000.00         150000.00                             150000.00   \n",
       "mean  0.07              6.05                                  52.30       \n",
       "std   0.25              249.76                                14.77       \n",
       "min   0.00              0.00                                  0.00        \n",
       "25%   0.00              0.03                                  41.00       \n",
       "50%   0.00              0.15                                  52.00       \n",
       "75%   0.00              0.56                                  63.00       \n",
       "max   1.00              50708.00                              109.00      \n",
       "\n",
       "       NumberOfTime30-59DaysPastDueNotWorse  DebtRatio  MonthlyIncome  \\\n",
       "count 150000.00                             150000.00  120269.00        \n",
       "mean  0.42                                  353.01     6670.22          \n",
       "std   4.19                                  2037.82    14384.67         \n",
       "min   0.00                                  0.00       0.00             \n",
       "25%   0.00                                  0.18       3400.00          \n",
       "50%   0.00                                  0.37       5400.00          \n",
       "75%   0.00                                  0.87       8249.00          \n",
       "max   98.00                                 329664.00  3008750.00       \n",
       "\n",
       "       NumberOfOpenCreditLinesAndLoans  NumberOfTimes90DaysLate  \\\n",
       "count 150000.00                        150000.00                  \n",
       "mean  8.45                             0.27                       \n",
       "std   5.15                             4.17                       \n",
       "min   0.00                             0.00                       \n",
       "25%   5.00                             0.00                       \n",
       "50%   8.00                             0.00                       \n",
       "75%   11.00                            0.00                       \n",
       "max   58.00                            98.00                      \n",
       "\n",
       "       NumberRealEstateLoansOrLines  NumberOfTime60-89DaysPastDueNotWorse  \\\n",
       "count 150000.00                     150000.00                               \n",
       "mean  1.02                          0.24                                    \n",
       "std   1.13                          4.16                                    \n",
       "min   0.00                          0.00                                    \n",
       "25%   0.00                          0.00                                    \n",
       "50%   1.00                          0.00                                    \n",
       "75%   2.00                          0.00                                    \n",
       "max   54.00                         98.00                                   \n",
       "\n",
       "       NumberOfDependents  \n",
       "count 146076.00            \n",
       "mean  0.76                 \n",
       "std   1.12                 \n",
       "min   0.00                 \n",
       "25%   0.00                 \n",
       "50%   0.00                 \n",
       "75%   1.00                 \n",
       "max   20.00                "
      ]
     },
     "execution_count": 15,
     "metadata": {},
     "output_type": "execute_result"
    }
   ],
   "source": [
    "# Check numerical column stats\n",
    "df.describe()"
   ]
  },
  {
   "cell_type": "code",
   "execution_count": 16,
   "metadata": {},
   "outputs": [
    {
     "data": {
      "text/html": [
       "<div>\n",
       "<style scoped>\n",
       "    .dataframe tbody tr th:only-of-type {\n",
       "        vertical-align: middle;\n",
       "    }\n",
       "\n",
       "    .dataframe tbody tr th {\n",
       "        vertical-align: top;\n",
       "    }\n",
       "\n",
       "    .dataframe thead th {\n",
       "        text-align: right;\n",
       "    }\n",
       "</style>\n",
       "<table border=\"1\" class=\"dataframe\">\n",
       "  <thead>\n",
       "    <tr style=\"text-align: right;\">\n",
       "      <th></th>\n",
       "      <th>SeriousDlqin2yrs</th>\n",
       "      <th>RevolvingUtilizationOfUnsecuredLines</th>\n",
       "      <th>age</th>\n",
       "      <th>NumberOfTime30-59DaysPastDueNotWorse</th>\n",
       "      <th>DebtRatio</th>\n",
       "      <th>MonthlyIncome</th>\n",
       "      <th>NumberOfOpenCreditLinesAndLoans</th>\n",
       "      <th>NumberOfTimes90DaysLate</th>\n",
       "      <th>NumberRealEstateLoansOrLines</th>\n",
       "      <th>NumberOfTime60-89DaysPastDueNotWorse</th>\n",
       "      <th>NumberOfDependents</th>\n",
       "    </tr>\n",
       "  </thead>\n",
       "  <tbody>\n",
       "    <tr>\n",
       "      <th>count</th>\n",
       "      <td>29731.00</td>\n",
       "      <td>29731.00</td>\n",
       "      <td>29731.00</td>\n",
       "      <td>29731.00</td>\n",
       "      <td>29731.00</td>\n",
       "      <td>0.00</td>\n",
       "      <td>29731.00</td>\n",
       "      <td>29731.00</td>\n",
       "      <td>29731.00</td>\n",
       "      <td>29731.00</td>\n",
       "      <td>25807.00</td>\n",
       "    </tr>\n",
       "    <tr>\n",
       "      <th>mean</th>\n",
       "      <td>0.06</td>\n",
       "      <td>6.65</td>\n",
       "      <td>56.36</td>\n",
       "      <td>0.58</td>\n",
       "      <td>1673.40</td>\n",
       "      <td>NaN</td>\n",
       "      <td>7.22</td>\n",
       "      <td>0.48</td>\n",
       "      <td>0.87</td>\n",
       "      <td>0.45</td>\n",
       "      <td>0.32</td>\n",
       "    </tr>\n",
       "    <tr>\n",
       "      <th>std</th>\n",
       "      <td>0.23</td>\n",
       "      <td>217.81</td>\n",
       "      <td>15.44</td>\n",
       "      <td>6.26</td>\n",
       "      <td>4248.37</td>\n",
       "      <td>NaN</td>\n",
       "      <td>4.84</td>\n",
       "      <td>6.25</td>\n",
       "      <td>1.03</td>\n",
       "      <td>6.24</td>\n",
       "      <td>0.81</td>\n",
       "    </tr>\n",
       "    <tr>\n",
       "      <th>min</th>\n",
       "      <td>0.00</td>\n",
       "      <td>0.00</td>\n",
       "      <td>21.00</td>\n",
       "      <td>0.00</td>\n",
       "      <td>0.00</td>\n",
       "      <td>NaN</td>\n",
       "      <td>0.00</td>\n",
       "      <td>0.00</td>\n",
       "      <td>0.00</td>\n",
       "      <td>0.00</td>\n",
       "      <td>0.00</td>\n",
       "    </tr>\n",
       "    <tr>\n",
       "      <th>25%</th>\n",
       "      <td>0.00</td>\n",
       "      <td>0.02</td>\n",
       "      <td>46.00</td>\n",
       "      <td>0.00</td>\n",
       "      <td>123.00</td>\n",
       "      <td>NaN</td>\n",
       "      <td>4.00</td>\n",
       "      <td>0.00</td>\n",
       "      <td>0.00</td>\n",
       "      <td>0.00</td>\n",
       "      <td>0.00</td>\n",
       "    </tr>\n",
       "    <tr>\n",
       "      <th>50%</th>\n",
       "      <td>0.00</td>\n",
       "      <td>0.08</td>\n",
       "      <td>57.00</td>\n",
       "      <td>0.00</td>\n",
       "      <td>1159.00</td>\n",
       "      <td>NaN</td>\n",
       "      <td>6.00</td>\n",
       "      <td>0.00</td>\n",
       "      <td>1.00</td>\n",
       "      <td>0.00</td>\n",
       "      <td>0.00</td>\n",
       "    </tr>\n",
       "    <tr>\n",
       "      <th>75%</th>\n",
       "      <td>0.00</td>\n",
       "      <td>0.44</td>\n",
       "      <td>67.00</td>\n",
       "      <td>0.00</td>\n",
       "      <td>2382.00</td>\n",
       "      <td>NaN</td>\n",
       "      <td>10.00</td>\n",
       "      <td>0.00</td>\n",
       "      <td>1.00</td>\n",
       "      <td>0.00</td>\n",
       "      <td>0.00</td>\n",
       "    </tr>\n",
       "    <tr>\n",
       "      <th>max</th>\n",
       "      <td>1.00</td>\n",
       "      <td>22198.00</td>\n",
       "      <td>109.00</td>\n",
       "      <td>98.00</td>\n",
       "      <td>329664.00</td>\n",
       "      <td>NaN</td>\n",
       "      <td>45.00</td>\n",
       "      <td>98.00</td>\n",
       "      <td>23.00</td>\n",
       "      <td>98.00</td>\n",
       "      <td>9.00</td>\n",
       "    </tr>\n",
       "  </tbody>\n",
       "</table>\n",
       "</div>"
      ],
      "text/plain": [
       "       SeriousDlqin2yrs  RevolvingUtilizationOfUnsecuredLines      age  \\\n",
       "count 29731.00          29731.00                              29731.00   \n",
       "mean  0.06              6.65                                  56.36      \n",
       "std   0.23              217.81                                15.44      \n",
       "min   0.00              0.00                                  21.00      \n",
       "25%   0.00              0.02                                  46.00      \n",
       "50%   0.00              0.08                                  57.00      \n",
       "75%   0.00              0.44                                  67.00      \n",
       "max   1.00              22198.00                              109.00     \n",
       "\n",
       "       NumberOfTime30-59DaysPastDueNotWorse  DebtRatio  MonthlyIncome  \\\n",
       "count 29731.00                              29731.00   0.00             \n",
       "mean  0.58                                  1673.40    NaN              \n",
       "std   6.26                                  4248.37    NaN              \n",
       "min   0.00                                  0.00       NaN              \n",
       "25%   0.00                                  123.00     NaN              \n",
       "50%   0.00                                  1159.00    NaN              \n",
       "75%   0.00                                  2382.00    NaN              \n",
       "max   98.00                                 329664.00  NaN              \n",
       "\n",
       "       NumberOfOpenCreditLinesAndLoans  NumberOfTimes90DaysLate  \\\n",
       "count 29731.00                         29731.00                   \n",
       "mean  7.22                             0.48                       \n",
       "std   4.84                             6.25                       \n",
       "min   0.00                             0.00                       \n",
       "25%   4.00                             0.00                       \n",
       "50%   6.00                             0.00                       \n",
       "75%   10.00                            0.00                       \n",
       "max   45.00                            98.00                      \n",
       "\n",
       "       NumberRealEstateLoansOrLines  NumberOfTime60-89DaysPastDueNotWorse  \\\n",
       "count 29731.00                      29731.00                                \n",
       "mean  0.87                          0.45                                    \n",
       "std   1.03                          6.24                                    \n",
       "min   0.00                          0.00                                    \n",
       "25%   0.00                          0.00                                    \n",
       "50%   1.00                          0.00                                    \n",
       "75%   1.00                          0.00                                    \n",
       "max   23.00                         98.00                                   \n",
       "\n",
       "       NumberOfDependents  \n",
       "count 25807.00             \n",
       "mean  0.32                 \n",
       "std   0.81                 \n",
       "min   0.00                 \n",
       "25%   0.00                 \n",
       "50%   0.00                 \n",
       "75%   0.00                 \n",
       "max   9.00                 "
      ]
     },
     "execution_count": 16,
     "metadata": {},
     "output_type": "execute_result"
    }
   ],
   "source": [
    "df_NaN.describe()"
   ]
  },
  {
   "cell_type": "code",
   "execution_count": 17,
   "metadata": {},
   "outputs": [],
   "source": [
    "df_monthlyincome = df.dropna(subset=['MonthlyIncome'])"
   ]
  },
  {
   "cell_type": "markdown",
   "metadata": {},
   "source": [
    "## Monthly Income Analysis"
   ]
  },
  {
   "cell_type": "code",
   "execution_count": 19,
   "metadata": {},
   "outputs": [
    {
     "name": "stdout",
     "output_type": "stream",
     "text": [
      "With All Customers\n"
     ]
    },
    {
     "data": {
      "text/plain": [
       "count   120269.00 \n",
       "mean    6670.22   \n",
       "std     14384.67  \n",
       "min     0.00      \n",
       "25%     3400.00   \n",
       "50%     5400.00   \n",
       "75%     8249.00   \n",
       "max     3008750.00\n",
       "Name: MonthlyIncome, dtype: float64"
      ]
     },
     "execution_count": 19,
     "metadata": {},
     "output_type": "execute_result"
    }
   ],
   "source": [
    "# 'MonthlyIncome' stats\n",
    "print(\"With All Customers\")\n",
    "df_monthlyincome['MonthlyIncome'].describe()"
   ]
  },
  {
   "cell_type": "markdown",
   "metadata": {},
   "source": [
    "* The max monthly income is $3,008,750. This is a monthly income significantly higher than the average annual income for an American and is an indicator there was bias in the data collection."
   ]
  },
  {
   "cell_type": "code",
   "execution_count": 21,
   "metadata": {},
   "outputs": [
    {
     "data": {
      "image/png": "[encoded data removed]",
      "text/plain": [
       "<Figure size 1000x600 with 1 Axes>"
      ]
     },
     "metadata": {},
     "output_type": "display_data"
    }
   ],
   "source": [
    "# Set the aesthetic style of the plots\n",
    "sns.set(style=\"whitegrid\")\n",
    "\n",
    "# Create a box plot \n",
    "plt.figure(figsize=(10, 6))\n",
    "sns.boxplot(x=df_monthlyincome['MonthlyIncome'], color='lightblue')\n",
    "\n",
    "# Show the plot\n",
    "plt.title('Box Plot of Monthly Income With All Outliers')\n",
    "plt.xlabel('Monthly Income')\n",
    "plt.show()"
   ]
  },
  {
   "cell_type": "markdown",
   "metadata": {},
   "source": [
    "* there are a significant number of customers with monthly incomes over $100,000 a month. No information is available regarding how the data was collected, but given how many people have monthly incomes well above the average annual income in the country, the researchers appear to have used biased collection methods."
   ]
  },
  {
   "cell_type": "code",
   "execution_count": 23,
   "metadata": {},
   "outputs": [],
   "source": [
    "# Drop all rows with a 'MonthlyIncome' over $100,000\n",
    "df_monthlyincome = df_monthlyincome[df_monthlyincome['MonthlyIncome'] <= 100000]"
   ]
  },
  {
   "cell_type": "code",
   "execution_count": 24,
   "metadata": {},
   "outputs": [
    {
     "data": {
      "image/png": "[encoded data removed]",
      "text/plain": [
       "<Figure size 1000x600 with 1 Axes>"
      ]
     },
     "metadata": {},
     "output_type": "display_data"
    }
   ],
   "source": [
    "# Set the aesthetic style of the plots\n",
    "sns.set(style=\"whitegrid\")\n",
    "\n",
    "# Create a box plot \n",
    "plt.figure(figsize=(10, 6))\n",
    "sns.boxplot(x=df_monthlyincome['MonthlyIncome'], color='lightblue')\n",
    "\n",
    "# Show the plot\n",
    "plt.title('Box Plot of Monthly Income After Removing All Persons With Monthly Incomes Over $500k')\n",
    "plt.xlabel('Monthly Income')\n",
    "plt.show()"
   ]
  },
  {
   "cell_type": "markdown",
   "metadata": {},
   "source": [
    "* There's still a significant number of customers who earn more than $20,000 a month. After research statistics on income distribution in the USA, the distribution appears to be normal for a sample size of ~129,000. I'll leave the remaining outliers for EDA and modeling."
   ]
  },
  {
   "cell_type": "code",
   "execution_count": 26,
   "metadata": {},
   "outputs": [
    {
     "data": {
      "image/png": "[encoded data removed]",
      "text/plain": [
       "<Figure size 1200x600 with 1 Axes>"
      ]
     },
     "metadata": {},
     "output_type": "display_data"
    }
   ],
   "source": [
    "# Assign the bin range\n",
    "bins = range(0, 100000, 5000)  \n",
    "\n",
    "# Plot the histogram \n",
    "plt.figure(figsize=(12, 6))\n",
    "plt.hist(df_monthlyincome['MonthlyIncome'], bins=bins, color='lightblue', edgecolor='black')\n",
    "plt.title('Histogram of Monthly Income in $5,000 Bins')\n",
    "plt.xlabel('Monthly Income ($)')\n",
    "plt.ylabel('Frequency')\n",
    "plt.xticks(bins, rotation=45)  \n",
    "plt.grid(axis='y', linestyle='--', alpha=0.7)\n",
    "plt.show()"
   ]
  },
  {
   "cell_type": "code",
   "execution_count": 27,
   "metadata": {},
   "outputs": [
    {
     "name": "stdout",
     "output_type": "stream",
     "text": [
      "Outliers Removed\n"
     ]
    },
    {
     "data": {
      "text/plain": [
       "count   120199.00\n",
       "mean    8.76     \n",
       "std     5.17     \n",
       "min     0.00     \n",
       "25%     5.00     \n",
       "50%     8.00     \n",
       "75%     11.00    \n",
       "max     58.00    \n",
       "Name: NumberOfOpenCreditLinesAndLoans, dtype: float64"
      ]
     },
     "execution_count": 27,
     "metadata": {},
     "output_type": "execute_result"
    }
   ],
   "source": [
    "# 'NumberOfOpenCreditLinesAndLoans' stats\n",
    "print(\"Outliers Removed\")\n",
    "df_monthlyincome['NumberOfOpenCreditLinesAndLoans'].describe()"
   ]
  },
  {
   "cell_type": "markdown",
   "metadata": {},
   "source": [
    "## Number Of Open Credit Lines And Loans Analysis"
   ]
  },
  {
   "cell_type": "code",
   "execution_count": 29,
   "metadata": {},
   "outputs": [
    {
     "name": "stdout",
     "output_type": "stream",
     "text": [
      "count   150000.00\n",
      "mean    8.45     \n",
      "std     5.15     \n",
      "min     0.00     \n",
      "25%     5.00     \n",
      "50%     8.00     \n",
      "75%     11.00    \n",
      "max     58.00    \n",
      "Name: NumberOfOpenCreditLinesAndLoans, dtype: float64\n"
     ]
    }
   ],
   "source": [
    "\n",
    "print(df['NumberOfOpenCreditLinesAndLoans'].describe())\n"
   ]
  },
  {
   "cell_type": "code",
   "execution_count": 30,
   "metadata": {},
   "outputs": [
    {
     "data": {
      "image/png": "[encoded data removed]",
      "text/plain": [
       "<Figure size 1000x600 with 1 Axes>"
      ]
     },
     "metadata": {},
     "output_type": "display_data"
    },
    {
     "data": {
      "image/png": "[encoded data removed]",
      "text/plain": [
       "<Figure size 1000x600 with 1 Axes>"
      ]
     },
     "metadata": {},
     "output_type": "display_data"
    }
   ],
   "source": [
    "\n",
    "# Create visualization\n",
    "plt.figure(figsize=(10, 6))\n",
    "sns.boxplot(x=df['NumberOfOpenCreditLinesAndLoans'])\n",
    "plt.title('Distribution of Number of Open Credit Lines and Loans')\n",
    "plt.xlabel('Number of Open Credit Lines and Loans')\n",
    "plt.show()\n",
    "\n",
    "# Create histogram\n",
    "plt.figure(figsize=(10, 6))\n",
    "sns.histplot(data=df, x='NumberOfOpenCreditLinesAndLoans', bins=10)\n",
    "plt.title('Histogram of Number of Open Credit Lines and Loans')\n",
    "plt.xlabel('Number of Open Credit Lines and Loans')\n",
    "plt.ylabel('Count')\n",
    "plt.show()\n"
   ]
  },
  {
   "cell_type": "code",
   "execution_count": 31,
   "metadata": {},
   "outputs": [
    {
     "name": "stdout",
     "output_type": "stream",
     "text": [
      "Skewness: 1.22\n",
      "Number of outliers: 3980\n",
      "Outlier threshold: < -4.00 or > 20.00\n"
     ]
    }
   ],
   "source": [
    "# Check for skewness\n",
    "skewness = df['NumberOfOpenCreditLinesAndLoans'].skew()\n",
    "print(f\"\\\n",
    "Skewness: {skewness:.2f}\")\n",
    "\n",
    "# Check for outliers using IQR method\n",
    "Q1 = df['NumberOfOpenCreditLinesAndLoans'].quantile(0.25)\n",
    "Q3 = df['NumberOfOpenCreditLinesAndLoans'].quantile(0.75)\n",
    "IQR = Q3 - Q1\n",
    "lower_bound = Q1 - 1.5 * IQR\n",
    "upper_bound = Q3 + 1.5 * IQR\n",
    "\n",
    "outliers = df[(df['NumberOfOpenCreditLinesAndLoans'] < lower_bound) | \n",
    "              (df['NumberOfOpenCreditLinesAndLoans'] > upper_bound)]\n",
    "print(f\"\\\n",
    "Number of outliers: {len(outliers)}\")\n",
    "print(f\"Outlier threshold: < {lower_bound:.2f} or > {upper_bound:.2f}\")"
   ]
  },
  {
   "cell_type": "markdown",
   "metadata": {},
   "source": [
    "There seems to be significant imbalances in the demographics of who takes out loans from the bank. We don't have any information on how the data was collected, if it was collected from a series of banks, there was some bias in how the customers were selected. \n",
    "\n",
    "The maximum monthly income is $3,008,750, far exceeding U.S. norms, indicating bias in data collection. And Even after removing the outliers, a large number of customers earn over $20,000 monthly and even $100,000 monthly. The skewness appears in the number of credit lines and loans, as well. The mean number of credit lines is 8.76, however, the highest number of credit lines and loans in the dataset is 58.\n",
    "\n",
    "If this data was collected from a single bank, the demographics of the area are most likely what's causing the dispropartionality high amount monthly incomes and number of credit lines. The bias of having an abnormally high amount of wealthy individuals and training a model on this dataset could lead to predicted delinquency based on ordinary financial decisions. Ffor example, misinterpreting multiple credit lines as financial risk rather than standard practice for high-income individuals. "
   ]
  }
 ],
 "metadata": {
  "colab": {
   "provenance": []
  },
  "kernelspec": {
   "display_name": "Python 3 (ipykernel)",
   "language": "python",
   "name": "python3"
  },
  "language_info": {
   "codemirror_mode": {
    "name": "ipython",
    "version": 3
   },
   "file_extension": ".py",
   "mimetype": "text/x-python",
   "name": "python",
   "nbconvert_exporter": "python",
   "pygments_lexer": "ipython3",
   "version": "3.12.4"
  }
 },
 "nbformat": 4,
 "nbformat_minor": 4
}
